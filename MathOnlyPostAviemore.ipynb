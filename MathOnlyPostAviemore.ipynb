{
 "cells": [
  {
   "cell_type": "markdown",
   "id": "d50c0377",
   "metadata": {},
   "source": [
    "Markov Process and Chains\n",
    "=========================\n",
    "\n",
    "A **probability kernel** is a mapping $K : \\mathbb{X} \\times {\\mathcal{Y}}\n",
    "\\rightarrow \\overline{\\mathbb{R}}_{+}$ where $(\\mathbb{X}, {\\mathcal{X}})$ and $(\\mathbb{Y},\n",
    "{\\mathcal{Y}})$ are two measurable spaces such that $K(s, \\cdot)$ is a\n",
    "probability measure on ${\\mathcal{Y}}$ for all $s \\in \\mathbb{X}$ and such that\n",
    "$K(\\cdot, A)$ is a measurable function on $\\mathbb{X}$ for all $A \\in\n",
    "{\\mathcal{Y}}$.\n",
    "\n",
    "A sequence of random variables $X_{0:T}$ from $(\\mathbb{X}, {\\mathcal{X}})$  to $(\\mathbb{X}, {\\mathcal{X}})$\n",
    "with joint distribution given by\n",
    "\n",
    "$$\n",
    "\\mathbb{P}_T(X_{0:T} \\in {\\mathrm d}x_{0:T}) = \\mathbb{P}_0(\\mathrm{d}x_0)\\prod_{s = 1}^T K_s(x_{s - 1}, \\mathrm{d}x_s)\n",
    "$$\n",
    "\n",
    "where $K_t$ are a sequence of probability kernels is called a (discrete-time) **Markov process**.\n",
    "The measure so given is a path measure.\n",
    "\n",
    "Note that, e.g.,\n",
    "\n",
    "$$\n",
    "\\mathbb{P}_1((X_{0}, X_{1}) \\in A_0 \\times A_1) = \\int_{A_{0} \\times A_{1}} \\mathbb{P}_0(\\mathrm{d}x_0) K_1(x_{0}, \\mathrm{d}x_1)\n",
    "$$\n",
    "\n",
    "It can be shown that\n",
    "\n",
    "$$\n",
    "\\mathbb{P}_T(X_t \\in \\mathrm{d}x_t \\,|\\, X_{0:t-1} = x_{0:t-1}) = \\mathbb{P}_T(X_t \\in \\mathrm{d}x_t, X_{t-1} = x_{t-1}) = K_t(x_{t-1}, \\mathrm{d}x_t)\n",
    "$$\n",
    "\n",
    "and this is often used as the defintion of a (discrete-time) Markov Process.\n",
    "\n",
    "Let $(\\mathbb{X}, \\mathcal{X})$ and $(\\mathbb{Y}, \\mathcal{Y})$ be two measure (actually Polish) spaces.\n",
    "We define a hidden Markov model as a $(\\mathbb{X} \\times \\mathbb{Y}, X \\otimes \\mathcal{Y})$-measurable\n",
    "Markov process $\\left(X_{n}, Y_{n}\\right)_{n \\geq 0}$ whose joint distribution is given by\n",
    "\n",
    "$$\n",
    "\\mathbb{P}_T(X_{0:T} \\in {\\mathrm d}x_{0:T}, Y_{0:T} \\in {\\mathrm d}y_{0:T}) = \\mathbb{P}_0(\\mathrm{d}x_0)F_s(x_{0}, \\mathrm{d}y_0)\\prod_{s = 1}^T K_s(x_{s - 1}, \\mathrm{d}x_s) F_s(x_{s}, \\mathrm{d}y_s)\n",
    "$$\n",
    "\n",
    "Writing $\\mathbb{Q}_0(\\mathrm{d}x_0, \\mathrm{d}y_0) = \\mathbb{P}_0(\\mathrm{d}x_0) F_0(x_0, \\mathrm{d}y_0)$ and $L _t((x_{t-1}, y_{t-1}), (\\mathrm{d}x_t, \\mathrm{d}y_t)) = K_t(x_{t - 1}, \\mathrm{d}x_t) F_t(x_{t}, \\mathrm{d}y_t)$ we see that this is really is a Markov process:\n",
    "\n",
    "$$\n",
    "\\mathbb{P}_T(X_{0:T} \\in {\\mathrm d}x_{0:T}, Y_{0:T} \\in {\\mathrm d}y_{0:T}) = \\mathbb{P}_0(\\mathrm{d}x_0)F_0(x_0, \\mathrm{d}y_0)\\prod_{s = 1}^T K_s(x_{s - 1}, \\mathrm{d}x_s) F_s(x_{s}, \\mathrm{d}y_s) = \\mathbb{Q}_0(\\mathrm{d}x_0, \\mathrm{d}y_0)\\prod_{s = 1}^T L_s((x_{s - 1}, y_{s - 1}), (\\mathrm{d}x_s, \\mathrm{d}y_s))\n",
    "$$"
   ]
  },
  {
   "cell_type": "markdown",
   "id": "cda0f7fb",
   "metadata": {},
   "source": [
    "We make the usual assumption that\n",
    "\n",
    "$$\n",
    "F_t(x_t, \\mathrm{d}y_t) = f_t(x_t, y_t) \\nu(\\mathrm{d}y)\n",
    "$$"
   ]
  },
  {
   "cell_type": "markdown",
   "id": "4c98165c",
   "metadata": {},
   "source": [
    "We can marginalise out $X_{0:T}$:\n",
    "\n",
    "$$\n",
    "\\mathbb{P}_T(Y_{0:t} \\in \\mathrm{d}y_{0:t}) = \\mathbb{E}_{\\mathbb{P}_t}\\Bigg[\\prod_{s=0}^t f_s(X_s, y_s)\\Bigg]\\prod_{s=0}^t\\nu(\\mathrm{d}y_s)\n",
    "$$"
   ]
  },
  {
   "cell_type": "markdown",
   "id": "b3fe77ad",
   "metadata": {},
   "source": [
    "And writing\n",
    "\n",
    "$$\n",
    "p_T(y_{0:t}) = p_t(y_{0:t}) = \\mathbb{E}_{\\mathbb{P}_t}\\Bigg[\\prod_{s=0}^t f_s(X_s, y_s)\\Bigg]\n",
    "$$\n",
    "\n",
    "We can write\n",
    "\n",
    "$$\n",
    "\\mathbb{P}_t(X_{0:t} \\in \\mathrm{d}x_{0:t} \\,|\\, Y_{0:t} = y_{0:t}) = \\frac{1}{p_t(y_{0:t})}\\Bigg[\\prod_{s=0}^t f(x_s, y_s)\\Bigg]\\mathbb{P}_t(\\mathrm{d}_{0:t})\n",
    "$$"
   ]
  },
  {
   "cell_type": "markdown",
   "id": "01d6ae9a",
   "metadata": {},
   "source": [
    "We can generalise this. Let us start by with a Markov process\n",
    "\n",
    "$$\n",
    "\\mathbb{M}_T(X_{0:T} \\in {\\mathrm d}x_{0:T}) = \\mathbb{M}_0(\\mathrm{d}x_0)\\prod_{s = 1}^T M_s(x_{s - 1}, \\mathrm{d}x_s)\n",
    "$$\n",
    "\n",
    "and then assume that we are given a sequence of potential functions (the nomenclature appears to come from statistical physics) $G_0 : \\mathcal{X} \\rightarrow \\mathbb{R}^+$ and $G_t : \\mathcal{X} \\times \\mathcal{X} \\rightarrow \\mathbb{R}^+$ for $1 \\leq t \\leq T$. Then a sequence of Feynman-Kac models is given by a change of measure (FIXME: not even mentioned so far) from $\\mathbb{M}_t$:\n",
    "\n",
    "$$\n",
    "\\mathbb{Q}_t(\\mathrm{d} x_{0:t}) \\triangleq \\frac{1}{L_t}G_0(x_0)\\Bigg[\\prod_{s=1}^t G_s(x_{s-1}, x_s)\\Bigg]\\mathbb{M}_t(\\mathrm{d} x_{0:t})\n",
    "$$\n",
    "\n",
    "(N.B. we don't yet know this is a Markov measure - have we even defined a Markov measure?)\n",
    "\n",
    "where\n",
    "\n",
    "$$\n",
    "L_t = \\int_{\\mathcal{X}^{t+1}} G_0(x_0)\\Bigg[\\prod_{s=1}^t G_s(x_{s-1}, x_s)\\Bigg]\\mathbb{M}_t(\\mathrm{d} x_{0:t})\n",
    "$$"
   ]
  },
  {
   "cell_type": "markdown",
   "id": "156e52c8",
   "metadata": {},
   "source": [
    "With some manipulation we can write these recursively (FIXME: we had better check this)."
   ]
  },
  {
   "cell_type": "markdown",
   "id": "ba8b1b40",
   "metadata": {},
   "source": [
    "Extension (of the path) which we will use to derive the predictive step:\n",
    "\n",
    "$$\n",
    "\\mathbb{Q}_{t-1}\\left(\\mathrm{~d} x_{t-1: t}\\right)=\\mathbb{Q}_{t-1}\\left(\\mathrm{~d} x_{t-1}\\right) M_{t}\\left(x_{t-1}, \\mathrm{~d} x_{t}\\right)\n",
    "$$"
   ]
  },
  {
   "cell_type": "markdown",
   "id": "0d69934e",
   "metadata": {},
   "source": [
    "and the change of measure step which we will use to derive the correction step:\n",
    "\n",
    "$$\n",
    "\\mathbb{Q}_{t}\\left(\\mathrm{~d} x_{t-1: t}\\right)=\\frac{1}{\\ell_{t}} G_{t}\\left(x_{t-1}, x_{t}\\right) \\mathbb{Q}_{t-1}\\left(\\mathrm{~d} x_{t-1: t}\\right)\n",
    "$$"
   ]
  },
  {
   "cell_type": "markdown",
   "id": "8cc1368d",
   "metadata": {},
   "source": [
    "where\n",
    "\n",
    "$$\n",
    "\\ell_{0}=L_{0}=\\int_{\\mathcal{X}} G_{0}\\left(x_{0}\\right) M_{0}\\left(\\mathrm{~d} x_{0}\\right)\n",
    "$$\n",
    "\n",
    "and\n",
    "\n",
    "$$\n",
    "\\ell_{t}=\\frac{L_{t}}{L_{t-1}}=\\int_{\\mathcal{X}^{2}} G_{t}\\left(x_{t-1}, x_{t}\\right) \\mathbb{Q}_{t-1}\\left(\\mathrm{~d} x_{t-1: t}\\right)\n",
    "$$\n",
    "\n",
    "for $t \\geq 1$."
   ]
  },
  {
   "cell_type": "markdown",
   "id": "c20ab1f9",
   "metadata": {},
   "source": [
    "For a concrete example (bootstrap Feynman-Kac), we can take\n",
    "\n",
    "$$\n",
    "\\begin{aligned}\n",
    "&\\mathbb{M}_{0}\\left(\\mathrm{~d} x_{0}\\right)=\\mathbb{P}_{0}\\left(\\mathrm{~d} x_{0}\\right), \\quad G_{0}\\left(x_{0}\\right)=f_{0}\\left(x_{0}, y_{0}\\right) \\\\\n",
    "&M_{t}\\left(x_{t-1}, \\mathrm{~d} x_{t}\\right)=K_{t}\\left(x_{t-1}, \\mathrm{~d} x_{t}\\right), \\quad G_{t}\\left(x_{t-1}, x_{t}\\right)=f_{t}\\left(x_{t}, y_{t}\\right)\n",
    "\\end{aligned}\n",
    "$$"
   ]
  },
  {
   "cell_type": "markdown",
   "id": "ae36d281",
   "metadata": {},
   "source": [
    "Then using extension and marginalising we have\n",
    "\n",
    "$$\n",
    "\\mathbb{P}_{t-1}\\left(X_{t} \\in \\mathrm{d} x_{t} \\mid Y_{0: t-1}=y_{0: t-1}\\right)\n",
    "=\\int_{x_{t-1} \\in \\mathcal{X}} K_{t}\\left(x_{t-1}, \\mathrm{~d} x_{t}\\right) \\mathbb{P}_{t}\\left(X_{t-1} \\in \\mathrm{d} x_{t-1} \\mid Y_{0: t-1}=y_{0: t-1}\\right)\n",
    "$$"
   ]
  },
  {
   "cell_type": "markdown",
   "id": "0c7aa38e",
   "metadata": {},
   "source": [
    "And using change of measure and marginalising we have\n",
    "$$\n",
    "\\mathbb{P}_{t}\\left(X_{t} \\in \\mathrm{d} x_{t} \\mid Y_{0: t-1}=y_{0: t-1}\\right)=\\frac{1}{\\ell_{t}} f_{t}\\left(x_{t}, y_{t}\\right) \\mathbb{P}_{t-1}\\left(X_{t} \\in \\mathrm{d} x_{t} \\mid Y_{0: t-1}=y_{0: t-1}\\right)\n",
    "$$"
   ]
  },
  {
   "cell_type": "markdown",
   "id": "7d5a77aa",
   "metadata": {},
   "source": [
    "If we define an operator $P$ on measures as:\n",
    "\n",
    "$$\n",
    "\\mathrm{P} \\rho \\triangleq \\int \\rho(\\mathrm{d}x)K\\left(x, \\mathrm{d}x^{\\prime}\\right)\n",
    "$$\n",
    "\n",
    "and an operator $C_t$ as:\n",
    "\n",
    "$$\n",
    "\\mathrm{C}_{t} \\rho \\triangleq \\frac{\\rho(d x) f\\left(x, y_{t}\\right)}{\\int \\rho(d x) f\\left(x, y_{t}\\right)}\n",
    "$$"
   ]
  },
  {
   "cell_type": "markdown",
   "id": "dfed5646",
   "metadata": {},
   "source": [
    "$$\n",
    "\\pi_{n} \\triangleq \\mathbf{P}\\left(X_{n} \\in \\cdot \\mid Y_{1}, \\ldots, Y_{n}\\right)\n",
    "$$\n",
    "\n",
    "$$\n",
    "\\pi_{n-1} \\stackrel{\\text { prediction }}{\\longrightarrow} \\mathrm{P} \\pi_{n-1} \\stackrel{\\text { correction }}{\\longrightarrow} \\pi_{n}=\\mathrm{C}_{n} \\mathrm{P} \\pi_{n-1}\n",
    "$$"
   ]
  },
  {
   "cell_type": "markdown",
   "id": "6569a358",
   "metadata": {},
   "source": [
    "$$\n",
    "\\hat{\\pi}_{n-1} \\stackrel{\\text { prediction }}{\\longrightarrow} \\mathrm{P} \\hat{\\pi}_{n-1} \\stackrel{\\text { sampling }}{\\longrightarrow} \\mathrm{S}^{N} \\mathrm{P} \\hat{\\pi}_{n-1} \\stackrel{\\text { correction }}{\\longrightarrow} \\hat{\\pi}_{n}:=\\mathrm{C}_{n} \\mathrm{~S}^{N} \\mathrm{P} \\hat{\\pi}_{n-1}\n",
    "$$"
   ]
  },
  {
   "cell_type": "markdown",
   "id": "405242e4",
   "metadata": {},
   "source": [
    "$$\n",
    "\\mathrm{S}^{N} \\rho:=\\frac{1}{N} \\sum_{i=1}^{N} \\delta_{X(i)}, \\quad X(1), \\ldots, X(N) \\text { are i.i.d. samples with distribution } \\rho\n",
    "$$"
   ]
  },
  {
   "cell_type": "markdown",
   "id": "372f343a",
   "metadata": {},
   "source": [
    "$$\n",
    "\\sup _{|f| \\leq 1} \\mathbf{E}\\left|\\pi_{n} f-\\hat{\\pi}_{n} f\\right| \\leq \\frac{C}{\\sqrt{N}}\n",
    "$$"
   ]
  },
  {
   "cell_type": "markdown",
   "id": "b2307718",
   "metadata": {},
   "source": [
    "The Susceptible / Infected / Recovered (SIR) model has three parameters: one describing how infectious the pathogen is, one describing how much contact a host has with other hosts and one describing how quickly a host recovers.\n",
    "\n",
    "In order to estimate these parameters, we can assume that they come from prior distribution suggested by the literature and ideally then use a standard Markov Chain Monte Carlo (MCMC) technique to sample from the posterior. But with an Agent-Based Model (ABM), the likelihood is almost always intractable. We thus approximate the likelihood using particle filtering. The samples for the parameters that arise in this way are then drawn from the posterior and not just an approximation to the posterior.\n",
    "\n",
    "In a nutshell, we draw the parameters from a proposal distribution and then run the particle filter to calculate the likelihood and compare likelihoods as in standard MCMC in order to run the chain.\n",
    "\n",
    "Preliminary results have given a very good fit against observed data of an influenza outbreak in a boarding school in the UK."
   ]
  }
 ],
 "metadata": {
  "kernelspec": {
   "display_name": "Julia 1.6.1",
   "language": "julia",
   "name": "julia-1.6"
  },
  "language_info": {
   "file_extension": ".jl",
   "mimetype": "application/julia",
   "name": "julia",
   "version": "1.6.3"
  },
  "name": "MathOnlyPostAviemore.ipynb"
 },
 "nbformat": 4,
 "nbformat_minor": 5
}
