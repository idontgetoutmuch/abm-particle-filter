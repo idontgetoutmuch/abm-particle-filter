{
 "cells": [
  {
   "cell_type": "markdown",
   "id": "d2359d1f",
   "metadata": {
    "collapsed": false
   },
   "source": [
    "Markov Process and Chains\n",
    "=========================\n",
    "\n",
    "A **probability kernel** is a mapping $K : \\mathbb{X} \\times {\\mathcal{Y}}\n",
    "\\rightarrow \\overline{\\mathbb{R}}_{+}$ where $(\\mathbb{X}, {\\mathcal{X}})$ and $(\\mathbb{Y},\n",
    "{\\mathcal{Y}})$ are two measurable spaces such that $K(s, \\cdot)$ is a\n",
    "probability measure on ${\\mathcal{Y}}$ for all $s \\in \\mathbb{X}$ and such that\n",
    "$K(\\cdot, A)$ is a measurable function on $\\mathbb{X}$ for all $A \\in\n",
    "{\\mathcal{Y}}$.\n",
    "\n",
    "A sequence of random variables $X_{0:T}$ from $(\\mathbb{X}, {\\mathcal{X}})$  to $(\\mathbb{X}, {\\mathcal{X}})$\n",
    "with joint distribution given by\n",
    "\n",
    "$$\n",
    "\\mathbb{P}_T(X_{0:T} \\in {\\mathrm d}x_{0:T}) = \\mathbb{P}_0(\\mathrm{d}x_0)\\prod_{s = 1}^T K_s(x_{s - 1}, \\mathrm{d}x_s)\n",
    "$$\n",
    "\n",
    "where $K_t$ are a sequence of probability kernels is called a (discrete-time) **Markov process**.\n",
    "The measure so given is a path measure.\n",
    "\n",
    "Note that, e.g.,\n",
    "\n",
    "$$\n",
    "\\mathbb{P}_1((X_{0}, X_{1}) \\in A_0 \\times A_1) = \\int_{A_{0} \\times A_{1}} \\mathbb{P}_0(\\mathrm{d}x_0) K_1(x_{0}, \\mathrm{d}x_1)\n",
    "$$\n",
    "\n",
    "It can be shown that\n",
    "\n",
    "$$\n",
    "\\mathbb{P}_T(X_t \\in \\mathrm{d}x_t \\,|\\, X_{0:t-1} = x_{0:t-1}) = \\mathbb{P}_T(X_t \\in \\mathrm{d}x_t \\,|\\, X_{t-1} = x_{t-1}) = K_t(x_{t-1} \\,|\\, \\mathrm{d}x_t)\n",
    "$$\n",
    "\n",
    "and this is often used as the defintion of a (discrete-time) Markov Process.\n",
    "\n",
    "Let $(\\mathbb{X}, \\mathcal{X})$ and $(\\mathbb{Y}, \\mathcal{Y})$ be two measure (actually Polish) spaces.\n",
    "We define a hidden Markov model as a $(\\mathbb{X} \\times \\mathbb{Y}, X \\otimes \\mathcal{Y})$-measurable\n",
    "Markov process $\\left(X_{n}, Y_{n}\\right)_{n \\geq 0}$ whose joint distribution is given by\n",
    "\n",
    "$$\n",
    "\\mathbb{P}_T(X_{0:T} \\in {\\mathrm d}x_{0:T}, Y_{0:T} \\in {\\mathrm d}y_{0:T}) = \\mathbb{P}_0(\\mathrm{d}x_0)F_s(x_{0}, \\mathrm{d}y_0)\\prod_{s = 1}^T K_s(x_{s - 1}, \\mathrm{d}x_s) F_s(x_{s}, \\mathrm{d}y_s)\n",
    "$$\n",
    "\n",
    "Writing $\\mathbb{Q}_0(\\mathrm{d}x_0, \\mathrm{d}y_0) = \\mathbb{P}_0(\\mathrm{d}x_0) F_0(x_0, \\mathrm{d}y_0)$ and $L _t((x_{t-1}, y_{t-1}), (\\mathrm{d}x_t, \\mathrm{d}y_t)) = K_t(x_{t - 1}, \\mathrm{d}x_t) F_t(x_{t}, \\mathrm{d}y_t)$ we see that this is really is a Markov process:\n",
    "\n",
    "$$\n",
    "\\mathbb{P}_T(X_{0:T} \\in {\\mathrm d}x_{0:T}, Y_{0:T} \\in {\\mathrm d}y_{0:T}) = \\mathbb{P}_0(\\mathrm{d}x_0)F_0(x_0, \\mathrm{d}y_0)\\prod_{s = 1}^T K_s(x_{s - 1}, \\mathrm{d}x_s) F_s(x_{s}, \\mathrm{d}y_s) = \\mathbb{Q}_0(\\mathrm{d}x_0, \\mathrm{d}y_0)\\prod_{s = 1}^T L_s((x_{s - 1}, y_{s - 1}), (\\mathrm{d}x_s, \\mathrm{d}y_s))\n",
    "$$"
   ]
  },
  {
   "cell_type": "markdown",
   "id": "409d750d",
   "metadata": {
    "collapsed": false
   },
   "source": [
    "We make the usual assumption that\n",
    "\n",
    "$$\n",
    "F_t(x_t, \\mathrm{d}y_t) = f_t(x_t, y_t) \\nu(\\mathrm{d}y)\n",
    "$$"
   ]
  },
  {
   "cell_type": "markdown",
   "id": "94218266",
   "metadata": {
    "collapsed": false
   },
   "source": [
    "We can marginalise out $X_{0:T}$:\n",
    "\n",
    "$$\n",
    "\\mathbb{P}_T(Y_{0:t} \\in \\mathrm{d}y_{0:t}) = \\mathbb{E}_{\\mathbb{P}_t}\\Bigg[\\prod_{s=0}^t f_s(X_s, y_s)\\Bigg]\\prod_{s=0}^t\\nu(\\mathrm{d}y_s)\n",
    "$$"
   ]
  },
  {
   "cell_type": "markdown",
   "id": "422477e5",
   "metadata": {
    "collapsed": false
   },
   "source": [
    "And writing\n",
    "\n",
    "$$\n",
    "p_T(y_{0:t}) = p_t(y_{0:t}) = \\mathbb{E}_{\\mathbb{P}_t}\\Bigg[\\prod_{s=0}^t f_s(X_s, y_s)\\Bigg]\n",
    "$$\n",
    "\n",
    "We can write\n",
    "\n",
    "$$\n",
    "\\mathbb{P}_t(X_{0:t} \\in \\mathrm{d}x_{0:t} \\,|\\, Y_{0:t} = y_{0:t}) = \\frac{1}{p_t(y_{0:t})}\\Bigg[\\prod_{s=0}^t f(x_s, y_s)\\Bigg]\\mathbb{P}_t(\\mathrm{d}_{0:t})\n",
    "$$"
   ]
  },
  {
   "cell_type": "markdown",
   "id": "a6414908",
   "metadata": {
    "collapsed": false
   },
   "source": [
    "We can generalise this. Let us start by with a Markov process\n",
    "\n",
    "$$\n",
    "\\mathbb{M}_T(X_{0:T} \\in {\\mathrm d}x_{0:T}) = \\mathbb{M}_0(\\mathrm{d}x_0)\\prod_{s = 1}^T M_s(x_{s - 1}, \\mathrm{d}x_s)\n",
    "$$\n",
    "\n",
    "and then assume that we are given a sequence of potential functions (the nomenclature appears to come from statistical physics) $G_0 : \\mathcal{X} \\rightarrow \\mathbb{R}^+$ and $G_t : \\mathcal{X} \\times \\mathcal{X} \\rightarrow \\mathbb{R}^+$ for $1 \\leq t \\leq T$. Then a sequence of Feynman-Kac models is given by a change of measure (FIXME: not even mentioned so far) from $\\mathbb{M}_t$:\n",
    "\n",
    "$$\n",
    "\\mathbb{Q}_t \\triangleq \\frac{1}{L_t}G_0(x_0)\\Bigg[\\prod_{s=1}^t G_s(x_{s-1}, x_s)\\Bigg]\\mathbb{M}_t(\\mathrm{d} x_{0:t})\n",
    "$$\n",
    "\n",
    "(N.B. we don't yet know this is a Markov measure - have we even defined a Markov measure?)\n",
    "\n",
    "where\n",
    "\n",
    "$$\n",
    "L_t = \\int_{\\mathcal{X}^{t+1}} G_0(x_0)\\Bigg[\\prod_{s=1}^t G_s(x_{s-1}, x_s)\\Bigg]\\mathbb{M}_t(\\mathrm{d} x_{0:t})\n",
    "$$"
   ]
  },
  {
   "cell_type": "markdown",
   "id": "3dfa871f",
   "metadata": {
    "collapsed": false
   },
   "source": [
    "$$\n",
    "\\mathbb{P}_{t-1}\\left(X_{t} \\in \\mathrm{d} x_{t} \\mid Y_{0: t-1}=y_{0: t-1}\\right)\n",
    "=\\int_{x_{t-1} \\in \\mathcal{X}} K_{t}\\left(x_{t-1}, \\mathrm{~d} x_{t}\\right) \\mathbb{P}_{t}\\left(X_{t-1} \\in \\mathrm{d} x_{t-1} \\mid Y_{0: t-1}=y_{0: t-1}\\right)\n",
    "$$"
   ]
  },
  {
   "cell_type": "markdown",
   "id": "932d4908",
   "metadata": {
    "collapsed": false
   },
   "source": [
    "$$\n",
    "(\\mathrm{P} \\rho) f \\triangleq \\int \\rho(\\mathrm{d}x)K\\left(x, \\mathrm{d}x^{\\prime}\\right)f\\left(x^{\\prime}\\right)\n",
    "$$"
   ]
  }
 ],
 "metadata": {
  "kernelspec": {
   "argv": [
    "/Applications/Julia-1.6.app/Contents/Resources/julia/bin/julia",
    "-i",
    "--color=yes",
    "--project=@.",
    "/Users/dom/.julia/packages/IJulia/e8kqU/src/kernel.jl",
    "{connection_file}"
   ],
   "display_name": "Julia 1.6.1",
   "env": null,
   "interrupt_mode": "signal",
   "language": "julia",
   "metadata": null,
   "name": "julia-1.6"
  },
  "language_info": {
   "file_extension": ".jl",
   "mimetype": "application/julia",
   "name": "julia",
   "version": "1.6.3"
  },
  "name": "MathOnly.ipynb"
 },
 "nbformat": 4,
 "nbformat_minor": 5
}
